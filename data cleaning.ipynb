{
 "cells": [
  {
   "cell_type": "code",
   "execution_count": 1,
   "id": "e1cd7fd3",
   "metadata": {},
   "outputs": [],
   "source": [
    "import matplotlib as plt\n",
    "import pandas as pd\n",
    "import numpy as np"
   ]
  },
  {
   "cell_type": "code",
   "execution_count": 2,
   "id": "c17b70ee",
   "metadata": {},
   "outputs": [],
   "source": [
    "data_raw=pd.read_csv(r\"./data/raw_data.csv\")"
   ]
  },
  {
   "cell_type": "code",
   "execution_count": 4,
   "id": "9f4f5eb1",
   "metadata": {},
   "outputs": [],
   "source": [
    "#Select all the complete data\n",
    "data_finished=data_raw[data_raw[\"Finished\"]==True].reset_index(drop=True)"
   ]
  },
  {
   "cell_type": "code",
   "execution_count": 6,
   "id": "dbdc4a36",
   "metadata": {},
   "outputs": [
    {
     "data": {
      "text/plain": [
       "Finished                   0\n",
       "Extraversion               0\n",
       "Observant                  0\n",
       "Thinking                   0\n",
       "Judging                    0\n",
       "Age                       31\n",
       "Gender                     0\n",
       "education                  0\n",
       "Major                      0\n",
       "way of watching movies     0\n",
       "subscription               0\n",
       "Frequency                  0\n",
       "number of movies           0\n",
       "Reasons                    1\n",
       "With whom                  0\n",
       "factors                    0\n",
       "Action                     0\n",
       "Adventure                  0\n",
       "Animated                   0\n",
       "Comedy                     0\n",
       "Historical                 0\n",
       "Fantasy                    0\n",
       "Horror                     0\n",
       "Science fiction            0\n",
       "Documentary                0\n",
       "dtype: int64"
      ]
     },
     "execution_count": 6,
     "metadata": {},
     "output_type": "execute_result"
    }
   ],
   "source": [
    "#check data containing nan values\n",
    "data_finished.isnull().sum()"
   ]
  },
  {
   "cell_type": "code",
   "execution_count": 7,
   "id": "c3206ed9",
   "metadata": {},
   "outputs": [],
   "source": [
    "#Use mean value to replace nan values in age\n",
    "data_finished['Age']=data_finished['Age'].fillna(int(data_finished['Age'].mean()))"
   ]
  },
  {
   "cell_type": "code",
   "execution_count": 9,
   "id": "108b34dc",
   "metadata": {},
   "outputs": [],
   "source": [
    "#Drop nan values\n",
    "data_finished=data_finished.dropna()"
   ]
  },
  {
   "cell_type": "code",
   "execution_count": 11,
   "id": "fcbfa104",
   "metadata": {},
   "outputs": [],
   "source": [
    "data_finished=data_finished.drop('Finished',axis=1)"
   ]
  },
  {
   "cell_type": "code",
   "execution_count": 17,
   "id": "af460654",
   "metadata": {},
   "outputs": [],
   "source": [
    "#remove data including abnormal ages\n",
    "data_finished=data_finished[data_finished['Age']>15]\n",
    "data_finished=data_finished[data_finished['Age']<65]"
   ]
  },
  {
   "cell_type": "code",
   "execution_count": 18,
   "id": "9cea7579",
   "metadata": {},
   "outputs": [],
   "source": [
    "data_finished=data_finished.reset_index(drop=True)"
   ]
  },
  {
   "cell_type": "code",
   "execution_count": 20,
   "id": "ae7b6c34",
   "metadata": {},
   "outputs": [],
   "source": [
    "#remove data including abnormal mbti test results\n",
    "data_finished=data_finished[data_finished['Extraversion']<100]\n",
    "data_finished=data_finished[data_finished['Observant']<100]\n",
    "data_finished=data_finished[data_finished['Thinking']<100]\n",
    "data_finished=data_finished[data_finished['Judging']<100]"
   ]
  },
  {
   "cell_type": "code",
   "execution_count": 23,
   "id": "191b3cdf",
   "metadata": {},
   "outputs": [],
   "source": [
    "#Begin One-hot Encoding\n",
    "dummy_gender=pd.get_dummies(data_finished.Gender,prefix='Gender')"
   ]
  },
  {
   "cell_type": "code",
   "execution_count": 24,
   "id": "a190d325",
   "metadata": {},
   "outputs": [],
   "source": [
    "data_clean_gender=pd.concat([data_finished,dummy_gender],axis=1).reset_index(drop=True)"
   ]
  },
  {
   "cell_type": "code",
   "execution_count": 28,
   "id": "8bf96a51",
   "metadata": {},
   "outputs": [],
   "source": [
    "data_clean_gender=data_clean_gender.drop(columns=['Gender'],axis=1)"
   ]
  },
  {
   "cell_type": "code",
   "execution_count": 30,
   "id": "8823bcc0",
   "metadata": {},
   "outputs": [],
   "source": [
    "for i in range(len(data_clean_gender.Reasons)):\n",
    "    if 'Entertaining' in data_clean_gender.loc[i,'Reasons']:\n",
    "        data_clean_gender.loc[i,'Entertaining']=1\n",
    "    else:\n",
    "        data_clean_gender.loc[i,'Entertaining']=0\n",
    "    if 'relaxing' in data_clean_gender.loc[i,'Reasons']:\n",
    "        data_clean_gender.loc[i,'relaxing']=1\n",
    "    else:\n",
    "        data_clean_gender.loc[i,'relaxing']=0\n",
    "    if 'funny' in data_clean_gender.loc[i,'Reasons']:\n",
    "        data_clean_gender.loc[i,'funny']=1\n",
    "    else:\n",
    "        data_clean_gender.loc[i,'funny']=0\n",
    "    if 'express my feelings' in data_clean_gender.loc[i,'Reasons']:\n",
    "        data_clean_gender.loc[i,'express my feelings']=1\n",
    "    else:\n",
    "        data_clean_gender.loc[i,'express my feelings']=0\n",
    "    if 'educating' in data_clean_gender.loc[i,'Reasons']:\n",
    "        data_clean_gender.loc[i,'educating']=1\n",
    "    else:\n",
    "        data_clean_gender.loc[i,'educating']=0"
   ]
  },
  {
   "cell_type": "code",
   "execution_count": 32,
   "id": "d3accdcd",
   "metadata": {},
   "outputs": [],
   "source": [
    "data_clean_gender=data_clean_gender.drop(columns=['Reasons'],axis=1)"
   ]
  },
  {
   "cell_type": "code",
   "execution_count": 34,
   "id": "50d04282",
   "metadata": {},
   "outputs": [],
   "source": [
    "dummy_education=pd.get_dummies(data_clean_gender.education,prefix='education')\n",
    "dummy_major=pd.get_dummies(data_clean_gender.Major,prefix='Major')\n",
    "dummy_subscription=pd.get_dummies(data_clean_gender.subscription,prefix='subscription')\n",
    "dummy_Frequency=pd.get_dummies(data_clean_gender.Frequency,prefix='Frequency')\n",
    "dummy_number=pd.get_dummies(data_clean_gender['number of movies'],prefix='number')\n",
    "dummy_whom=pd.get_dummies(data_clean_gender['With whom'],prefix='with')"
   ]
  },
  {
   "cell_type": "code",
   "execution_count": 43,
   "id": "c932b63c",
   "metadata": {},
   "outputs": [],
   "source": [
    "data_clean_dummy=pd.concat([data_clean_gender,dummy_education,dummy_major,dummy_subscription,\n",
    "                           dummy_Frequency,dummy_number,dummy_whom],axis=1).reset_index(drop=True)\n",
    "data_clean_dummy=data_clean_dummy.drop(columns=['education','Major','subscription','Frequency','number of movies','With whom'],axis=1)"
   ]
  },
  {
   "cell_type": "code",
   "execution_count": 45,
   "id": "e05eacf2",
   "metadata": {},
   "outputs": [],
   "source": [
    "for i in range(len(data_clean_dummy.factors)):\n",
    "    if 'Actor/actress' in data_clean_dummy.loc[i,'factors']:\n",
    "        data_clean_dummy.loc[i,'Actor/actress']=1\n",
    "    else:\n",
    "        data_clean_dummy.loc[i,'Actor/actress']=0\n",
    "    if 'director' in data_clean_dummy.loc[i,'factors']:\n",
    "        data_clean_dummy.loc[i,'director']=1\n",
    "    else:\n",
    "        data_clean_dummy.loc[i,'director']=0\n",
    "    if 'advertisements' in data_clean_dummy.loc[i,'factors']:\n",
    "        data_clean_dummy.loc[i,'advertisements']=1\n",
    "    else:\n",
    "        data_clean_dummy.loc[i,'advertisements']=0\n",
    "    if 'genres' in data_clean_dummy.loc[i,'factors']:\n",
    "        data_clean_dummy.loc[i,'genres']=1\n",
    "    else:\n",
    "        data_clean_dummy.loc[i,'genres']=0\n",
    "    if 'previews' in data_clean_dummy.loc[i,'factors']:\n",
    "        data_clean_dummy.loc[i,'previews']=1\n",
    "    else:\n",
    "        data_clean_dummy.loc[i,'previews']=0\n",
    "    if 'comment' in data_clean_dummy.loc[i,'factors']:\n",
    "        data_clean_dummy.loc[i,'comment']=1\n",
    "    else:\n",
    "        data_clean_dummy.loc[i,'comment']=0"
   ]
  },
  {
   "cell_type": "code",
   "execution_count": 46,
   "id": "7295b656",
   "metadata": {},
   "outputs": [],
   "source": [
    "data_clean_dummy=data_clean_dummy.drop(columns=['factors'],axis=1)"
   ]
  },
  {
   "cell_type": "code",
   "execution_count": 48,
   "id": "b671e155",
   "metadata": {},
   "outputs": [],
   "source": [
    "for i in range(len(data_clean_dummy['way of watching movies'])):\n",
    "    if 'cinema' in data_clean_dummy.loc[i,'way of watching movies']:\n",
    "        data_clean_dummy.loc[i,'way of watching movies']=int(1)\n",
    "    else:\n",
    "        data_clean_dummy.loc[i,'way of watching movies']=int(0)"
   ]
  },
  {
   "cell_type": "code",
   "execution_count": 50,
   "id": "c4e3c199",
   "metadata": {},
   "outputs": [],
   "source": [
    "data_clean_dummy.to_csv(r'./data/data_clean_v1.csv',index=False)"
   ]
  },
  {
   "cell_type": "code",
   "execution_count": 51,
   "id": "5d8a2fd1",
   "metadata": {},
   "outputs": [],
   "source": [
    "target_list=['Action','Adventure','Animated','Comedy','Historical','Fantasy','Horror','Science fiction','Documentary']\n",
    "for cat in target_list:\n",
    "    for i in range(len(data_clean_dummy[cat])):\n",
    "        if data_clean_dummy.loc[i,cat]=='Strongly like':\n",
    "            data_clean_dummy.loc[i,cat]=int(5)\n",
    "        elif data_clean_dummy.loc[i,cat]=='like':\n",
    "            data_clean_dummy.loc[i,cat]=int(4)\n",
    "        elif data_clean_dummy.loc[i,cat]=='dislike':\n",
    "            data_clean_dummy.loc[i,cat]=int(2)\n",
    "        elif data_clean_dummy.loc[i,cat]=='Strongly dislike':\n",
    "            data_clean_dummy.loc[i,cat]=int(1)\n",
    "        else:\n",
    "            data_clean_dummy.loc[i,cat]=int(3)"
   ]
  },
  {
   "cell_type": "code",
   "execution_count": 52,
   "id": "b2888f98",
   "metadata": {},
   "outputs": [],
   "source": [
    "data_clean_dummy.to_csv(r'./data/data_clean_v2.csv',index=False)"
   ]
  }
 ],
 "metadata": {
  "kernelspec": {
   "display_name": "Python 3",
   "language": "python",
   "name": "python3"
  },
  "language_info": {
   "codemirror_mode": {
    "name": "ipython",
    "version": 3
   },
   "file_extension": ".py",
   "mimetype": "text/x-python",
   "name": "python",
   "nbconvert_exporter": "python",
   "pygments_lexer": "ipython3",
   "version": "3.8.8"
  }
 },
 "nbformat": 4,
 "nbformat_minor": 5
}
